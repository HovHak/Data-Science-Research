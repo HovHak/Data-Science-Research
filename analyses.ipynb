{
 "cells": [
  {
   "cell_type": "markdown",
   "metadata": {},
   "source": [
    "<h1><center>Data Science Research </center></h1>\n"
   ]
  },
  {
   "cell_type": "markdown",
   "metadata": {},
   "source": [
    "<h2><center>Abstract</center></h2>"
   ]
  },
  {
   "cell_type": "markdown",
   "metadata": {},
   "source": [
    "This report refers to the main challenges in physical activity monitoring. The differences of classification problems will be applied to give an insight on the expected outcomes of wearable software’s/devices. The benchmark datasets of 9 different subjects that have committed over 12 activities will be used to investigate the correlations and arise with possible results which will grant some insights"
   ]
  },
  {
   "cell_type": "markdown",
   "metadata": {},
   "source": [
    "## 1 Introduction"
   ]
  },
  {
   "cell_type": "markdown",
   "metadata": {},
   "source": [
    "Wearable devices are becoming more and more famous in improving our daily physical activities, they can be used to estimate the intensity along with duration of the performed activity which can be used to limits of our bodies. Wearable devices such as fitness trackers can monitor the physiological data and behavior, these devices boost self-awareness and encourage behavior changes in simple habits that can improve our daily activities.\n",
    "\n",
    "For this assignment, we will try to discover the possibilities of such devices by testing the potential of PAMAP2 Physical Activity Monitoring Data-Set, this data set involves over 12 activities that were performed by 9 different participants, all the participants were wearing 3 different Internal Measurement Units(IMU) sensors.\n"
   ]
  },
  {
   "cell_type": "markdown",
   "metadata": {},
   "source": [
    "## 2 PAMAP Data-set and IMU"
   ]
  },
  {
   "cell_type": "markdown",
   "metadata": {},
   "source": [
    "As mentioned before the PAMAP2 dataset consists data of over 12 different activities, such activities are as followed.\n",
    "* lying\n",
    "* sitting\n",
    "* standing\n",
    "* walking\n",
    "* running\n",
    "* cycling\n",
    "* Nordic walking\n",
    "* watching TV\n",
    "* computer work\n",
    "* car driving\n",
    "* ascending stairs\n",
    "* descending stairs\n",
    "* vacuum cleaning\n",
    "* ironing\n",
    "* folding laundry\n",
    "* house cleaning\n",
    "* playing soccer\n",
    "* rope jumping\n",
    "* other (transient activities)\n",
    "\n",
    "Each participant had to follow a protocol to make the data persistent, that is, follow the time duration given for each activity, the 12 activities were followed as stated in the protocol, however, there were 6 extra activities  that were optional but were still performed by 5 participants.\n",
    "\n",
    "All the activities  were performed by using IMU sensors."
   ]
  },
  {
   "cell_type": "markdown",
   "metadata": {},
   "source": [
    "### 2.1 Internal Measurement Unit (IMU)"
   ]
  },
  {
   "cell_type": "markdown",
   "metadata": {},
   "source": [
    "Analog devices such as Internal Measurement Unit (IMU) sensors, are example of devices that fit for measuring or maintaining orientation and angular velocity(gyroscopes). the sensors in them allow to identify the accelerations, manometers and pressure[1].[1]. \n",
    "\n",
    "For the sake of the data gathering, all the activities outlined above were performed by participants  that wore 3 of such sensors upon their bodies, 1 - was placed on a chest, 2 - was placed on the hand wirst, 3 - on a ankle.\n",
    "<center>The example of the body shape participant  wearing IMU sensors</center>\n",
    "\n",
    "<img src=\"https://scontent-lht6-1.xx.fbcdn.net/v/t1.0-9/82241711_2709359825813214_797297456583802880_n.jpg?_nc_cat=100&_nc_ohc=MjSDyHJRjHoAQlqtlxwDB8YCaq-ENdYjJV-xj1Q5tZYaDOI9pjqiBmAXg&_nc_ht=scontent-lht6-1.xx&oh=d5b6712a1fbb3b5c168c4a02397cf2f8&oe=5EA77234\" width=\"200\" height=\"200\" />\n",
    "\n",
    "Each of the data-files contains 54 columns per row, the columns contain the following data:\n",
    "* 1 timestamp (s)\n",
    "* 2 activityID (see II.2. for the mapping to the activities)\n",
    "* 3 heart rate (bpm)\n",
    "* 4-20 IMU hand\n",
    "* 21-37 IMU chest\n",
    "* 38-54 IMU ankle\n"
   ]
  },
  {
   "cell_type": "markdown",
   "metadata": {},
   "source": [
    "## 3 Data Loading and Labeling"
   ]
  },
  {
   "cell_type": "markdown",
   "metadata": {},
   "source": [
    "As mentioned, the data includes 54 artributes, to produce our analyses, all this dataset should be loaded, cleaned and labeled as it will fit our tests.\n",
    "\n",
    "The data is labeled in columns that have no names and include only numerical data, each column is represented according to [1]. Although, each of the subjects (9 in total) does not have the same size of data as it varies. The physical activity data inlcudes 17 columns retrived by each IMU sensors during all the activites. each row indicates all the numerical values of sensory data grouped by a timestamp and activity(ID of the activity processed).\n",
    "\n",
    "The IMU sensory data contains the following columns:\n",
    "* 1 temperature (°C)\n",
    "* 2-4 3D-acceleration data (ms-2), scale: ±16g, resolution: 13-bit\n",
    "* 5-7 3D-acceleration data (ms-2), scale: ±6g, resolution: 13-bit*\n",
    "* 8-10 3D-gyroscope data (rad/s)\n",
    "* 11-13 3D-magnetometer data (μT) \n",
    "* 14-17. orientation (invalid in this data collection)\n",
    "\n",
    "Missing values are indicated with NaN. "
   ]
  },
  {
   "cell_type": "markdown",
   "metadata": {},
   "source": [
    "##### Importing all the libraries"
   ]
  },
  {
   "cell_type": "code",
   "execution_count": 1,
   "metadata": {},
   "outputs": [],
   "source": [
    "#importing the libraries \n",
    "from scipy import stats\n",
    "import numpy as np\n",
    "import pandas as pd\n",
    "import seaborn as sns\n",
    "\n",
    "%matplotlib inline\n",
    "from matplotlib import pyplot as plt\n",
    "from sklearn.linear_model import LinearRegression\n",
    "from sklearn.metrics import mean_squared_error, r2_score"
   ]
  },
  {
   "cell_type": "markdown",
   "metadata": {},
   "source": [
    "### 3.1 Labeling the data "
   ]
  },
  {
   "cell_type": "markdown",
   "metadata": {},
   "source": [
    "Since the data is not defined with any column name we will name them as mentioned above, however since some of the data is not consistent(columns 14-17) and will not be needed for our analyses, they need to be dropped, to do so, we will label them with ascending ID's in ascending order so that it is easy to drop all of them for each participant in accordance.\n"
   ]
  },
  {
   "cell_type": "code",
   "execution_count": 2,
   "metadata": {},
   "outputs": [],
   "source": [
    "columnNames = ['1','2','3','4','5','6','7','8','9','10','11','12','13','14','15','16','17','18','19','20','21','22','23','24', '25','26','27', '28', '29', '30', '31', '32', '33', '34', '35', '36', '37', '38', '39', '40', '41', '42', '43', '44', '45', '46', '47', '48', '49', '50', '51', '52','53','54']"
   ]
  },
  {
   "cell_type": "markdown",
   "metadata": {},
   "source": [
    "Now we will load all the data for each participant(subject) and label them with our ID's. while also converting them into a Data-frame."
   ]
  },
  {
   "cell_type": "code",
   "execution_count": 3,
   "metadata": {},
   "outputs": [],
   "source": [
    "\n",
    "\n",
    "subject101 = pd.read_table(\"./PAMAP2_Dataset/Protocol/subject101.dat\", sep=\"\\s+\", names = columnNames)\n",
    "subject102 = pd.read_table(\"./PAMAP2_Dataset/Protocol/subject102.dat\", sep=\"\\s+\",names = columnNames)\n",
    "subject103 = pd.read_table(\"./PAMAP2_Dataset/Protocol/subject103.dat\", sep=\"\\s+\",names = columnNames)\n",
    "subject104 = pd.read_table(\"./PAMAP2_Dataset/Protocol/subject104.dat\", sep=\"\\s+\",names = columnNames)\n",
    "subject105 = pd.read_table(\"./PAMAP2_Dataset/Protocol/subject105.dat\", sep=\"\\s+\",names = columnNames)\n",
    "subject106 = pd.read_table(\"./PAMAP2_Dataset/Protocol/subject106.dat\", sep=\"\\s+\",names = columnNames)\n",
    "subject107 = pd.read_table(\"./PAMAP2_Dataset/Protocol/subject107.dat\", sep=\"\\s+\",names = columnNames)\n",
    "subject108 = pd.read_table(\"./PAMAP2_Dataset/Protocol/subject108.dat\", sep=\"\\s+\",names = columnNames)\n",
    "subject109 = pd.read_table(\"./PAMAP2_Dataset/Protocol/subject109.dat\", sep=\"\\s+\",names = columnNames)\n",
    "\n"
   ]
  },
  {
   "cell_type": "markdown",
   "metadata": {},
   "source": [
    "The data for Each of the subjects has now been saved in a seperate Data-frame, each of them have the same labeled ID's. Please check example below."
   ]
  },
  {
   "cell_type": "code",
   "execution_count": 4,
   "metadata": {},
   "outputs": [
    {
     "data": {
      "text/plain": [
       "Index(['1', '2', '3', '4', '5', '6', '7', '8', '9', '10', '11', '12', '13',\n",
       "       '14', '15', '16', '17', '18', '19', '20', '21', '22', '23', '24', '25',\n",
       "       '26', '27', '28', '29', '30', '31', '32', '33', '34', '35', '36', '37',\n",
       "       '38', '39', '40', '41', '42', '43', '44', '45', '46', '47', '48', '49',\n",
       "       '50', '51', '52', '53', '54'],\n",
       "      dtype='object')"
      ]
     },
     "execution_count": 4,
     "metadata": {},
     "output_type": "execute_result"
    }
   ],
   "source": [
    "subject101.columns"
   ]
  },
  {
   "cell_type": "markdown",
   "metadata": {},
   "source": [
    "From the [1] we know that the IMU sensors have 17 artrtibutes, 4 of which are not consistent. In order to delete them, we will label those ID's that indiacte the invalid data in list of ID's, then drop them from our original data-frames of subjects."
   ]
  },
  {
   "cell_type": "code",
   "execution_count": 5,
   "metadata": {},
   "outputs": [],
   "source": [
    "dropingColumns = ['17','18','19','20','34','35','36','37','51','52','53','54']"
   ]
  },
  {
   "cell_type": "code",
   "execution_count": 6,
   "metadata": {},
   "outputs": [],
   "source": [
    "subject1 = subject101.drop(dropingColumns, axis=1)\n",
    "subject2 = subject102.drop(dropingColumns, axis=1)\n",
    "subject3 = subject103.drop(dropingColumns, axis=1)\n",
    "subject4 = subject104.drop(dropingColumns, axis=1)\n",
    "subject5 = subject105.drop(dropingColumns, axis=1)\n",
    "subject6 = subject106.drop(dropingColumns, axis=1)\n",
    "subject7 = subject107.drop(dropingColumns, axis=1)\n",
    "subject8 = subject108.drop(dropingColumns, axis=1)\n",
    "subject9 = subject109.drop(dropingColumns, axis=1)"
   ]
  },
  {
   "cell_type": "markdown",
   "metadata": {},
   "source": [
    "Now we are left with 42 artributes from our original dataset, to not mix dring our analysis I will name them accordingly as they have been defined at[1] adn result in view our labeled data with help of a Dataframe."
   ]
  },
  {
   "cell_type": "code",
   "execution_count": 7,
   "metadata": {},
   "outputs": [
    {
     "data": {
      "text/plain": [
       "['timestamp',\n",
       " 'activity_ID',\n",
       " 'heart_rate',\n",
       " 'IMU_hand_temp',\n",
       " 'hand_acceleration_16_1',\n",
       " 'hand_acceleration_16_2',\n",
       " 'hand_acceleration_16_3',\n",
       " 'hand_acceleration_6_4',\n",
       " 'hand_acceleration_6_5',\n",
       " 'hand_acceleration_6_6',\n",
       " 'hand_gyroscope_rad_7',\n",
       " 'hand_gyroscope_rad_8',\n",
       " 'hand_gyroscope_rad_9',\n",
       " 'hand_magnetometer_μT_10',\n",
       " 'hand_magnetometer_μT_11',\n",
       " 'hand_magnetometer_μT_12',\n",
       " 'IMU_chest_temp',\n",
       " 'chest_acceleration_16_1',\n",
       " 'chest_acceleration_16_2',\n",
       " 'chest_acceleration_16_3',\n",
       " 'chest_acceleration_6_4',\n",
       " 'chest_acceleration_6_5',\n",
       " 'chest_acceleration_6_6',\n",
       " 'chest_gyroscope_rad_7',\n",
       " 'chest_gyroscope_rad_8',\n",
       " 'chest_gyroscope_rad_9',\n",
       " 'chest_magnetometer_μT_10',\n",
       " 'chest_magnetometer_μT_11',\n",
       " 'chest_magnetometer_μT_12',\n",
       " 'IMU_ankle_temp',\n",
       " 'ankle_acceleration_16_1',\n",
       " 'ankle_acceleration_16_2',\n",
       " 'ankle_acceleration_16_3',\n",
       " 'ankle_acceleration_6_4',\n",
       " 'ankle_acceleration_6_5',\n",
       " 'ankle_acceleration_6_6',\n",
       " 'ankle_gyroscope_rad_7',\n",
       " 'ankle_gyroscope_rad_8',\n",
       " 'ankle_gyroscope_rad_9',\n",
       " 'ankle_magnetometer_μT_10',\n",
       " 'ankle_magnetometer_μT_11',\n",
       " 'ankle_magnetometer_μT_12']"
      ]
     },
     "execution_count": 7,
     "metadata": {},
     "output_type": "execute_result"
    }
   ],
   "source": [
    "column_names = ['timestamp', 'activity_ID','heart_rate']\n",
    "\n",
    "IMU_hand = ['IMU_hand_temp', 'hand_acceleration_16_1', 'hand_acceleration_16_2', 'hand_acceleration_16_3', 'hand_acceleration_6_4', 'hand_acceleration_6_5', 'hand_acceleration_6_6', 'hand_gyroscope_rad_7', 'hand_gyroscope_rad_8', 'hand_gyroscope_rad_9', 'hand_magnetometer_μT_10', 'hand_magnetometer_μT_11', 'hand_magnetometer_μT_12']\n",
    "\n",
    "IMU_chest = ['IMU_chest_temp', 'chest_acceleration_16_1', 'chest_acceleration_16_2', 'chest_acceleration_16_3', 'chest_acceleration_6_4', 'chest_acceleration_6_5', 'chest_acceleration_6_6', 'chest_gyroscope_rad_7', 'chest_gyroscope_rad_8', 'chest_gyroscope_rad_9', 'chest_magnetometer_μT_10', 'chest_magnetometer_μT_11', 'chest_magnetometer_μT_12']\n",
    "\n",
    "IMU_ankle = ['IMU_ankle_temp', 'ankle_acceleration_16_1', 'ankle_acceleration_16_2', 'ankle_acceleration_16_3', 'ankle_acceleration_6_4', 'ankle_acceleration_6_5', 'ankle_acceleration_6_6', 'ankle_gyroscope_rad_7', 'ankle_gyroscope_rad_8', 'ankle_gyroscope_rad_9', 'ankle_magnetometer_μT_10', 'ankle_magnetometer_μT_11', 'ankle_magnetometer_μT_12']\n",
    "\n",
    "\n",
    "all_column_names = column_names + IMU_hand + IMU_chest + IMU_ankle\n",
    "\n",
    "all_column_names"
   ]
  },
  {
   "cell_type": "markdown",
   "metadata": {},
   "source": [
    "Convert all the left ID's with all the column names."
   ]
  },
  {
   "cell_type": "code",
   "execution_count": 8,
   "metadata": {},
   "outputs": [],
   "source": [
    "subject1.columns = all_column_names\n",
    "subject2.columns = all_column_names\n",
    "subject3.columns = all_column_names\n",
    "subject4.columns = all_column_names\n",
    "subject5.columns = all_column_names\n",
    "subject6.columns = all_column_names\n",
    "subject7.columns = all_column_names\n",
    "subject8.columns = all_column_names\n",
    "subject9.columns = all_column_names"
   ]
  },
  {
   "cell_type": "code",
   "execution_count": 9,
   "metadata": {},
   "outputs": [
    {
     "data": {
      "text/html": [
       "<div>\n",
       "<style scoped>\n",
       "    .dataframe tbody tr th:only-of-type {\n",
       "        vertical-align: middle;\n",
       "    }\n",
       "\n",
       "    .dataframe tbody tr th {\n",
       "        vertical-align: top;\n",
       "    }\n",
       "\n",
       "    .dataframe thead th {\n",
       "        text-align: right;\n",
       "    }\n",
       "</style>\n",
       "<table border=\"1\" class=\"dataframe\">\n",
       "  <thead>\n",
       "    <tr style=\"text-align: right;\">\n",
       "      <th></th>\n",
       "      <th>timestamp</th>\n",
       "      <th>activity_ID</th>\n",
       "      <th>heart_rate</th>\n",
       "      <th>IMU_hand_temp</th>\n",
       "      <th>hand_acceleration_16_1</th>\n",
       "      <th>hand_acceleration_16_2</th>\n",
       "      <th>hand_acceleration_16_3</th>\n",
       "      <th>hand_acceleration_6_4</th>\n",
       "      <th>hand_acceleration_6_5</th>\n",
       "      <th>hand_acceleration_6_6</th>\n",
       "      <th>...</th>\n",
       "      <th>ankle_acceleration_16_3</th>\n",
       "      <th>ankle_acceleration_6_4</th>\n",
       "      <th>ankle_acceleration_6_5</th>\n",
       "      <th>ankle_acceleration_6_6</th>\n",
       "      <th>ankle_gyroscope_rad_7</th>\n",
       "      <th>ankle_gyroscope_rad_8</th>\n",
       "      <th>ankle_gyroscope_rad_9</th>\n",
       "      <th>ankle_magnetometer_μT_10</th>\n",
       "      <th>ankle_magnetometer_μT_11</th>\n",
       "      <th>ankle_magnetometer_μT_12</th>\n",
       "    </tr>\n",
       "  </thead>\n",
       "  <tbody>\n",
       "    <tr>\n",
       "      <th>0</th>\n",
       "      <td>8.38</td>\n",
       "      <td>0</td>\n",
       "      <td>104.0</td>\n",
       "      <td>30.0</td>\n",
       "      <td>2.37223</td>\n",
       "      <td>8.60074</td>\n",
       "      <td>3.51048</td>\n",
       "      <td>2.43954</td>\n",
       "      <td>8.76165</td>\n",
       "      <td>3.35465</td>\n",
       "      <td>...</td>\n",
       "      <td>-0.099797</td>\n",
       "      <td>9.64689</td>\n",
       "      <td>-1.55576</td>\n",
       "      <td>0.310404</td>\n",
       "      <td>0.008300</td>\n",
       "      <td>0.009250</td>\n",
       "      <td>-0.017580</td>\n",
       "      <td>-61.1888</td>\n",
       "      <td>-38.9599</td>\n",
       "      <td>-58.1438</td>\n",
       "    </tr>\n",
       "    <tr>\n",
       "      <th>1</th>\n",
       "      <td>8.39</td>\n",
       "      <td>0</td>\n",
       "      <td>NaN</td>\n",
       "      <td>30.0</td>\n",
       "      <td>2.18837</td>\n",
       "      <td>8.56560</td>\n",
       "      <td>3.66179</td>\n",
       "      <td>2.39494</td>\n",
       "      <td>8.55081</td>\n",
       "      <td>3.64207</td>\n",
       "      <td>...</td>\n",
       "      <td>-0.215687</td>\n",
       "      <td>9.61670</td>\n",
       "      <td>-1.61630</td>\n",
       "      <td>0.280488</td>\n",
       "      <td>-0.006577</td>\n",
       "      <td>-0.004638</td>\n",
       "      <td>0.000368</td>\n",
       "      <td>-59.8479</td>\n",
       "      <td>-38.8919</td>\n",
       "      <td>-58.5253</td>\n",
       "    </tr>\n",
       "    <tr>\n",
       "      <th>2</th>\n",
       "      <td>8.40</td>\n",
       "      <td>0</td>\n",
       "      <td>NaN</td>\n",
       "      <td>30.0</td>\n",
       "      <td>2.37357</td>\n",
       "      <td>8.60107</td>\n",
       "      <td>3.54898</td>\n",
       "      <td>2.30514</td>\n",
       "      <td>8.53644</td>\n",
       "      <td>3.73280</td>\n",
       "      <td>...</td>\n",
       "      <td>0.092914</td>\n",
       "      <td>9.63173</td>\n",
       "      <td>-1.58605</td>\n",
       "      <td>0.280311</td>\n",
       "      <td>0.003014</td>\n",
       "      <td>0.000148</td>\n",
       "      <td>0.022495</td>\n",
       "      <td>-60.7361</td>\n",
       "      <td>-39.4138</td>\n",
       "      <td>-58.3999</td>\n",
       "    </tr>\n",
       "    <tr>\n",
       "      <th>3</th>\n",
       "      <td>8.41</td>\n",
       "      <td>0</td>\n",
       "      <td>NaN</td>\n",
       "      <td>30.0</td>\n",
       "      <td>2.07473</td>\n",
       "      <td>8.52853</td>\n",
       "      <td>3.66021</td>\n",
       "      <td>2.33528</td>\n",
       "      <td>8.53622</td>\n",
       "      <td>3.73277</td>\n",
       "      <td>...</td>\n",
       "      <td>0.054545</td>\n",
       "      <td>9.63197</td>\n",
       "      <td>-1.63135</td>\n",
       "      <td>0.340997</td>\n",
       "      <td>0.003175</td>\n",
       "      <td>-0.020301</td>\n",
       "      <td>0.011275</td>\n",
       "      <td>-60.4091</td>\n",
       "      <td>-38.7635</td>\n",
       "      <td>-58.3956</td>\n",
       "    </tr>\n",
       "    <tr>\n",
       "      <th>4</th>\n",
       "      <td>8.42</td>\n",
       "      <td>0</td>\n",
       "      <td>NaN</td>\n",
       "      <td>30.0</td>\n",
       "      <td>2.22936</td>\n",
       "      <td>8.83122</td>\n",
       "      <td>3.70000</td>\n",
       "      <td>2.23055</td>\n",
       "      <td>8.59741</td>\n",
       "      <td>3.76295</td>\n",
       "      <td>...</td>\n",
       "      <td>-0.060809</td>\n",
       "      <td>9.64699</td>\n",
       "      <td>-1.64647</td>\n",
       "      <td>0.340965</td>\n",
       "      <td>0.012698</td>\n",
       "      <td>-0.014303</td>\n",
       "      <td>-0.002823</td>\n",
       "      <td>-61.5199</td>\n",
       "      <td>-39.3879</td>\n",
       "      <td>-58.2694</td>\n",
       "    </tr>\n",
       "  </tbody>\n",
       "</table>\n",
       "<p>5 rows × 42 columns</p>\n",
       "</div>"
      ],
      "text/plain": [
       "   timestamp  activity_ID  heart_rate  IMU_hand_temp  hand_acceleration_16_1  \\\n",
       "0       8.38            0       104.0           30.0                 2.37223   \n",
       "1       8.39            0         NaN           30.0                 2.18837   \n",
       "2       8.40            0         NaN           30.0                 2.37357   \n",
       "3       8.41            0         NaN           30.0                 2.07473   \n",
       "4       8.42            0         NaN           30.0                 2.22936   \n",
       "\n",
       "   hand_acceleration_16_2  hand_acceleration_16_3  hand_acceleration_6_4  \\\n",
       "0                 8.60074                 3.51048                2.43954   \n",
       "1                 8.56560                 3.66179                2.39494   \n",
       "2                 8.60107                 3.54898                2.30514   \n",
       "3                 8.52853                 3.66021                2.33528   \n",
       "4                 8.83122                 3.70000                2.23055   \n",
       "\n",
       "   hand_acceleration_6_5  hand_acceleration_6_6  ...  ankle_acceleration_16_3  \\\n",
       "0                8.76165                3.35465  ...                -0.099797   \n",
       "1                8.55081                3.64207  ...                -0.215687   \n",
       "2                8.53644                3.73280  ...                 0.092914   \n",
       "3                8.53622                3.73277  ...                 0.054545   \n",
       "4                8.59741                3.76295  ...                -0.060809   \n",
       "\n",
       "   ankle_acceleration_6_4  ankle_acceleration_6_5  ankle_acceleration_6_6  \\\n",
       "0                 9.64689                -1.55576                0.310404   \n",
       "1                 9.61670                -1.61630                0.280488   \n",
       "2                 9.63173                -1.58605                0.280311   \n",
       "3                 9.63197                -1.63135                0.340997   \n",
       "4                 9.64699                -1.64647                0.340965   \n",
       "\n",
       "   ankle_gyroscope_rad_7  ankle_gyroscope_rad_8  ankle_gyroscope_rad_9  \\\n",
       "0               0.008300               0.009250              -0.017580   \n",
       "1              -0.006577              -0.004638               0.000368   \n",
       "2               0.003014               0.000148               0.022495   \n",
       "3               0.003175              -0.020301               0.011275   \n",
       "4               0.012698              -0.014303              -0.002823   \n",
       "\n",
       "   ankle_magnetometer_μT_10  ankle_magnetometer_μT_11  \\\n",
       "0                  -61.1888                  -38.9599   \n",
       "1                  -59.8479                  -38.8919   \n",
       "2                  -60.7361                  -39.4138   \n",
       "3                  -60.4091                  -38.7635   \n",
       "4                  -61.5199                  -39.3879   \n",
       "\n",
       "   ankle_magnetometer_μT_12  \n",
       "0                  -58.1438  \n",
       "1                  -58.5253  \n",
       "2                  -58.3999  \n",
       "3                  -58.3956  \n",
       "4                  -58.2694  \n",
       "\n",
       "[5 rows x 42 columns]"
      ]
     },
     "execution_count": 9,
     "metadata": {},
     "output_type": "execute_result"
    }
   ],
   "source": [
    "subject1.head()"
   ]
  },
  {
   "cell_type": "code",
   "execution_count": 10,
   "metadata": {},
   "outputs": [
    {
     "data": {
      "text/plain": [
       "Index(['timestamp', 'activity_ID', 'heart_rate', 'IMU_hand_temp',\n",
       "       'hand_acceleration_16_1', 'hand_acceleration_16_2',\n",
       "       'hand_acceleration_16_3', 'hand_acceleration_6_4',\n",
       "       'hand_acceleration_6_5', 'hand_acceleration_6_6',\n",
       "       'hand_gyroscope_rad_7', 'hand_gyroscope_rad_8', 'hand_gyroscope_rad_9',\n",
       "       'hand_magnetometer_μT_10', 'hand_magnetometer_μT_11',\n",
       "       'hand_magnetometer_μT_12', 'IMU_chest_temp', 'chest_acceleration_16_1',\n",
       "       'chest_acceleration_16_2', 'chest_acceleration_16_3',\n",
       "       'chest_acceleration_6_4', 'chest_acceleration_6_5',\n",
       "       'chest_acceleration_6_6', 'chest_gyroscope_rad_7',\n",
       "       'chest_gyroscope_rad_8', 'chest_gyroscope_rad_9',\n",
       "       'chest_magnetometer_μT_10', 'chest_magnetometer_μT_11',\n",
       "       'chest_magnetometer_μT_12', 'IMU_ankle_temp', 'ankle_acceleration_16_1',\n",
       "       'ankle_acceleration_16_2', 'ankle_acceleration_16_3',\n",
       "       'ankle_acceleration_6_4', 'ankle_acceleration_6_5',\n",
       "       'ankle_acceleration_6_6', 'ankle_gyroscope_rad_7',\n",
       "       'ankle_gyroscope_rad_8', 'ankle_gyroscope_rad_9',\n",
       "       'ankle_magnetometer_μT_10', 'ankle_magnetometer_μT_11',\n",
       "       'ankle_magnetometer_μT_12'],\n",
       "      dtype='object')"
      ]
     },
     "execution_count": 10,
     "metadata": {},
     "output_type": "execute_result"
    }
   ],
   "source": [
    "subject1.columns"
   ]
  },
  {
   "cell_type": "markdown",
   "metadata": {},
   "source": [
    "Now all the data can be accessed with the right artributes."
   ]
  },
  {
   "cell_type": "markdown",
   "metadata": {},
   "source": [
    "### 3.2 Handeling Missing Data"
   ]
  },
  {
   "cell_type": "markdown",
   "metadata": {},
   "source": [
    "Just like any physical dataset, our labeled data also has missing values, this can be caused of wireless data dropping: missing values are indicated with NaN. Since data is given every 0.01s (due to the fact, that the IMUs have a sampling frequency of 100Hz), and the sampling frequency of the HR-monitor was only approximately 9Hz, the missing HR-values are also indicated with NaN values in the data-files [1]."
   ]
  },
  {
   "cell_type": "markdown",
   "metadata": {},
   "source": [
    "If we check our 'Timestamp' column in our subject’s data-frame, it becomes obvious that the data was recorded per 0.01 seconds. Having a missing data in a line of 0.01 might not be essential but it can escalate issues if multiple lines are missing at once.\n",
    "\n"
   ]
  },
  {
   "cell_type": "code",
   "execution_count": 11,
   "metadata": {},
   "outputs": [
    {
     "data": {
      "text/plain": [
       "0    8.38\n",
       "1    8.39\n",
       "2    8.40\n",
       "3    8.41\n",
       "4    8.42\n",
       "5    8.43\n",
       "6    8.44\n",
       "7    8.45\n",
       "8    8.46\n",
       "9    8.47\n",
       "Name: timestamp, dtype: float64"
      ]
     },
     "execution_count": 11,
     "metadata": {},
     "output_type": "execute_result"
    }
   ],
   "source": [
    "#example of timestamp column\n",
    "subject1['timestamp'].head(10)"
   ]
  },
  {
   "cell_type": "markdown",
   "metadata": {},
   "source": [
    "Since the data is in ascending and descending in linear-order which fluctuates based on the factor of the activity they are performing, I have decided to fill the NaN values with the mean of the ones that come before and after in same column.\n",
    "\n",
    "For example:\n",
    "\n",
    "<center> (ValueBefore+ValueAfter)/2 = New Value for NaN </center>\n",
    "\n",
    "To make this possible, I have used the 'Interpolate' function. It gives you the flexibility to fill the missing values with many kinds of interpolations between the values like linear which is what we are looking for in this scenario.\n"
   ]
  },
  {
   "cell_type": "markdown",
   "metadata": {},
   "source": [
    "For example, let’s say we have series of numbers.\n"
   ]
  },
  {
   "cell_type": "code",
   "execution_count": 12,
   "metadata": {},
   "outputs": [],
   "source": [
    "df = pd.Series([1, np.nan, np.nan, np.nan, np.nan, np.nan, np.nan, 3])"
   ]
  },
  {
   "cell_type": "code",
   "execution_count": 13,
   "metadata": {},
   "outputs": [
    {
     "data": {
      "text/plain": [
       "0    1.000000\n",
       "1    1.285714\n",
       "2    1.571429\n",
       "3    1.857143\n",
       "4    2.142857\n",
       "5    2.428571\n",
       "6    2.714286\n",
       "7    3.000000\n",
       "dtype: float64"
      ]
     },
     "execution_count": 13,
     "metadata": {},
     "output_type": "execute_result"
    }
   ],
   "source": [
    "df.interpolate()"
   ]
  },
  {
   "cell_type": "markdown",
   "metadata": {},
   "source": [
    "We will now apply the interpolate function on each of our subject's data-frames."
   ]
  },
  {
   "cell_type": "code",
   "execution_count": 14,
   "metadata": {},
   "outputs": [],
   "source": [
    "subject1 = subject1.interpolate()\n",
    "subject2 = subject2.interpolate()\n",
    "subject3 = subject3.interpolate()\n",
    "subject4 = subject4.interpolate()\n",
    "subject5 = subject5.interpolate()\n",
    "subject6 = subject6.interpolate()\n",
    "subject7 = subject7.interpolate()\n",
    "subject8 = subject8.interpolate()\n",
    "subject9 = subject9.interpolate()\n"
   ]
  },
  {
   "cell_type": "markdown",
   "metadata": {},
   "source": [
    "Although, the 'Interpolate' function is very usefull tool, it has some limitations. The values will be filled as soon as there is another value in the raw before and after. Meaning if the first lines of our data have missing values, then they will not be filled.\n",
    "\n",
    "For example"
   ]
  },
  {
   "cell_type": "code",
   "execution_count": 15,
   "metadata": {},
   "outputs": [],
   "source": [
    "# Creating the dataframe  \n",
    "df = pd.DataFrame({\"A\":[12, 4, 5, None, 1], \n",
    "                   \"B\":[None, 2, 54, 3, None], \n",
    "                   \"C\":[20, 16, None, 3, 8], \n",
    "                   \"D\":[14, 3, None, None, 6]}) "
   ]
  },
  {
   "cell_type": "code",
   "execution_count": 16,
   "metadata": {},
   "outputs": [
    {
     "data": {
      "text/html": [
       "<div>\n",
       "<style scoped>\n",
       "    .dataframe tbody tr th:only-of-type {\n",
       "        vertical-align: middle;\n",
       "    }\n",
       "\n",
       "    .dataframe tbody tr th {\n",
       "        vertical-align: top;\n",
       "    }\n",
       "\n",
       "    .dataframe thead th {\n",
       "        text-align: right;\n",
       "    }\n",
       "</style>\n",
       "<table border=\"1\" class=\"dataframe\">\n",
       "  <thead>\n",
       "    <tr style=\"text-align: right;\">\n",
       "      <th></th>\n",
       "      <th>A</th>\n",
       "      <th>B</th>\n",
       "      <th>C</th>\n",
       "      <th>D</th>\n",
       "    </tr>\n",
       "  </thead>\n",
       "  <tbody>\n",
       "    <tr>\n",
       "      <th>0</th>\n",
       "      <td>12.0</td>\n",
       "      <td>NaN</td>\n",
       "      <td>20.0</td>\n",
       "      <td>14.0</td>\n",
       "    </tr>\n",
       "    <tr>\n",
       "      <th>1</th>\n",
       "      <td>4.0</td>\n",
       "      <td>2.0</td>\n",
       "      <td>16.0</td>\n",
       "      <td>3.0</td>\n",
       "    </tr>\n",
       "    <tr>\n",
       "      <th>2</th>\n",
       "      <td>5.0</td>\n",
       "      <td>54.0</td>\n",
       "      <td>9.5</td>\n",
       "      <td>4.0</td>\n",
       "    </tr>\n",
       "    <tr>\n",
       "      <th>3</th>\n",
       "      <td>3.0</td>\n",
       "      <td>3.0</td>\n",
       "      <td>3.0</td>\n",
       "      <td>5.0</td>\n",
       "    </tr>\n",
       "    <tr>\n",
       "      <th>4</th>\n",
       "      <td>1.0</td>\n",
       "      <td>3.0</td>\n",
       "      <td>8.0</td>\n",
       "      <td>6.0</td>\n",
       "    </tr>\n",
       "  </tbody>\n",
       "</table>\n",
       "</div>"
      ],
      "text/plain": [
       "      A     B     C     D\n",
       "0  12.0   NaN  20.0  14.0\n",
       "1   4.0   2.0  16.0   3.0\n",
       "2   5.0  54.0   9.5   4.0\n",
       "3   3.0   3.0   3.0   5.0\n",
       "4   1.0   3.0   8.0   6.0"
      ]
     },
     "execution_count": 16,
     "metadata": {},
     "output_type": "execute_result"
    }
   ],
   "source": [
    "df.interpolate()"
   ]
  },
  {
   "cell_type": "markdown",
   "metadata": {},
   "source": [
    "As we can see from the output above, values in the first row could not get filled as the direction of filling of values is linear and there is no previous value which could have been used in interpolation."
   ]
  },
  {
   "cell_type": "markdown",
   "metadata": {},
   "source": [
    "However, after checking all the subjects manually, I found that most of the subjects(6) have NaN values in 'heart_rate' column in first lines of our data-set's.\n",
    "\n",
    "For example:\n"
   ]
  },
  {
   "cell_type": "code",
   "execution_count": 17,
   "metadata": {},
   "outputs": [
    {
     "data": {
      "text/plain": [
       "0      NaN\n",
       "1      NaN\n",
       "2    100.0\n",
       "3    100.0\n",
       "4    100.0\n",
       "Name: heart_rate, dtype: float64"
      ]
     },
     "execution_count": 17,
     "metadata": {},
     "output_type": "execute_result"
    }
   ],
   "source": [
    "subject2['heart_rate'].head()"
   ]
  },
  {
   "cell_type": "markdown",
   "metadata": {},
   "source": [
    "As we can see from above the subject2 still has NaN values as expected. Therefore, we will now use the 'fillNa' function on each of our subjects data-frames. in bakward position, meaning all the missing data in the beginning will be filled with the values that have appeard couple of nano second after.\n",
    "\n",
    "Even if the first couple of lines ar not of the great significance in our data-set, we will still need to fill them to have a absolute data.\n",
    "\n",
    "\n"
   ]
  },
  {
   "cell_type": "code",
   "execution_count": 18,
   "metadata": {},
   "outputs": [],
   "source": [
    "subject1 = subject1.fillna(method='bfill')\n",
    "subject2 = subject2.fillna(method='bfill')\n",
    "subject3 = subject3.fillna(method='bfill')\n",
    "subject4 = subject4.fillna(method='bfill')\n",
    "subject5 = subject5.fillna(method='bfill')\n",
    "subject6 = subject6.fillna(method='bfill')\n",
    "subject7 = subject7.fillna(method='bfill')\n",
    "subject8 = subject8.fillna(method='bfill')\n",
    "subject9 = subject9.fillna(method='bfill')"
   ]
  },
  {
   "cell_type": "markdown",
   "metadata": {},
   "source": [
    "Now lets make sure that we do not have any missing values in any of our data-frames."
   ]
  },
  {
   "cell_type": "code",
   "execution_count": 19,
   "metadata": {},
   "outputs": [
    {
     "name": "stdout",
     "output_type": "stream",
     "text": [
      "False\n",
      "False\n",
      "False\n",
      "False\n",
      "False\n",
      "False\n",
      "False\n",
      "False\n",
      "False\n"
     ]
    }
   ],
   "source": [
    "all_the_Subjects = subject1, subject2, subject3, subject4, subject5, subject6, subject7, subject8, subject9\n",
    "\n",
    "for subject in all_the_Subjects:\n",
    "    print(subject.isnull().values.any())\n",
    "    "
   ]
  },
  {
   "cell_type": "markdown",
   "metadata": {},
   "source": [
    "All the data is clean and is ready to process."
   ]
  },
  {
   "cell_type": "code",
   "execution_count": 20,
   "metadata": {},
   "outputs": [],
   "source": [
    "#############################################################################################################################"
   ]
  },
  {
   "cell_type": "markdown",
   "metadata": {},
   "source": [
    "## 4 Exploratory Data Analyses"
   ]
  },
  {
   "cell_type": "markdown",
   "metadata": {},
   "source": [
    "The data includes the type of columns that might not be nessary to use for the sake of this analysis. \n",
    "\n",
    "According to [1] The accelerometer is not precisely calibrated with the first one. Moreover, due to high impacts caused by certain movements (e.g. during running) with acceleration over 6g, it gets saturated sometimes. Therefore, the use of the data from the first accelerometer (with the scale of ±16g) is recommended.\n"
   ]
  },
  {
   "cell_type": "markdown",
   "metadata": {},
   "source": [
    "\n",
    "\n",
    "<center>Activities performed by subjects (in seconds)</center>\n",
    "\n",
    "<img src=\"https://scontent-lhr8-1.xx.fbcdn.net/v/t1.0-9/82129644_2709360252479838_6718480636618735616_o.jpg?_nc_cat=109&_nc_ohc=RX4rx2frw2gAQnHqUPv6mf4X1medPffdyQSwChFA2jdW4T-jbL0AA8Mtw&_nc_ht=scontent-lhr8-1.xx&oh=6ec59b77ff7669103da5036c0b6cb908&oe=5EA23640\" width=\"900\" height=\"800\" />\n",
    "\n",
    "\n"
   ]
  },
  {
   "cell_type": "markdown",
   "metadata": {},
   "source": [
    "Since the description was not conssistent on the specific activities it just mentioned the 'runinng' I will therefore dropp the collumns that include the 6g's for each of the subjects."
   ]
  },
  {
   "cell_type": "code",
   "execution_count": 21,
   "metadata": {},
   "outputs": [],
   "source": [
    "droppColumns =  ['hand_acceleration_6_4', 'hand_acceleration_6_5', 'hand_acceleration_6_6','chest_acceleration_6_4', 'chest_acceleration_6_5', 'chest_acceleration_6_6','ankle_acceleration_6_4', 'ankle_acceleration_6_5', 'ankle_acceleration_6_6']"
   ]
  },
  {
   "cell_type": "code",
   "execution_count": 22,
   "metadata": {},
   "outputs": [],
   "source": [
    "# dropping the 6g columns\n",
    "subject1 = subject1.drop(columns = droppColumns)\n",
    "subject2 = subject2.drop(columns = droppColumns)\n",
    "subject3 = subject3.drop(columns = droppColumns)\n",
    "subject4 = subject4.drop(columns = droppColumns)\n",
    "subject5 = subject5.drop(columns = droppColumns)\n",
    "subject6 = subject6.drop(columns = droppColumns)\n",
    "subject7 = subject7.drop(columns = droppColumns)\n",
    "subject8 = subject8.drop(columns = droppColumns)\n",
    "subject9 = subject9.drop(columns = droppColumns)\n"
   ]
  },
  {
   "cell_type": "code",
   "execution_count": 23,
   "metadata": {},
   "outputs": [
    {
     "data": {
      "text/plain": [
       "Index(['timestamp', 'activity_ID', 'heart_rate', 'IMU_hand_temp',\n",
       "       'hand_acceleration_16_1', 'hand_acceleration_16_2',\n",
       "       'hand_acceleration_16_3', 'hand_gyroscope_rad_7',\n",
       "       'hand_gyroscope_rad_8', 'hand_gyroscope_rad_9',\n",
       "       'hand_magnetometer_μT_10', 'hand_magnetometer_μT_11',\n",
       "       'hand_magnetometer_μT_12', 'IMU_chest_temp', 'chest_acceleration_16_1',\n",
       "       'chest_acceleration_16_2', 'chest_acceleration_16_3',\n",
       "       'chest_gyroscope_rad_7', 'chest_gyroscope_rad_8',\n",
       "       'chest_gyroscope_rad_9', 'chest_magnetometer_μT_10',\n",
       "       'chest_magnetometer_μT_11', 'chest_magnetometer_μT_12',\n",
       "       'IMU_ankle_temp', 'ankle_acceleration_16_1', 'ankle_acceleration_16_2',\n",
       "       'ankle_acceleration_16_3', 'ankle_gyroscope_rad_7',\n",
       "       'ankle_gyroscope_rad_8', 'ankle_gyroscope_rad_9',\n",
       "       'ankle_magnetometer_μT_10', 'ankle_magnetometer_μT_11',\n",
       "       'ankle_magnetometer_μT_12'],\n",
       "      dtype='object')"
      ]
     },
     "execution_count": 23,
     "metadata": {},
     "output_type": "execute_result"
    }
   ],
   "source": [
    "subject1.columns"
   ]
  },
  {
   "cell_type": "markdown",
   "metadata": {},
   "source": [
    "Also according to [1] the activities that are marked with 0 should be discarded in any kind of analysis. This data mainly\n",
    "covers transient activities between performing different activities, e.g. going from one location to the\n",
    "next activity's location. Therefore we will drop them too."
   ]
  },
  {
   "cell_type": "code",
   "execution_count": 24,
   "metadata": {},
   "outputs": [],
   "source": [
    "subject1 = subject1[subject1.activity_ID != 0]\n",
    "subject2 = subject2[subject2.activity_ID != 0]\n",
    "subject3 = subject3[subject3.activity_ID != 0]\n",
    "subject4 = subject4[subject4.activity_ID != 0]\n",
    "subject5 = subject5[subject5.activity_ID != 0]\n",
    "subject6 = subject6[subject6.activity_ID != 0]\n",
    "subject7 = subject7[subject7.activity_ID != 0]\n",
    "subject8 = subject8[subject8.activity_ID != 0]\n",
    "subject9 = subject9[subject9.activity_ID != 0]"
   ]
  },
  {
   "cell_type": "markdown",
   "metadata": {},
   "source": [
    "Now lets replace the ID's with the actual names that correspond to the given id (Check the List below)"
   ]
  },
  {
   "cell_type": "markdown",
   "metadata": {},
   "source": [
    "the Activitie ID's:\n",
    "\n",
    "* 1 lying\n",
    "* 2 sitting\n",
    "* 3 standing\n",
    "* 4 walking\n",
    "* 5 running\n",
    "* 6 cycling\n",
    "* 7 Nordic walking\n",
    "* 9 watching TV\n",
    "* 10 computer work\n",
    "* 11 car driving\n",
    "* 12 ascending stairs\n",
    "* 13 descending stairs\n",
    "* 16 vacuum cleaning\n",
    "* 17 ironing\n",
    "* 18 folding laundry\n",
    "* 19 house cleaning\n",
    "* 20 playing soccer\n",
    "* 24 rope jumping\n",
    "* 0 other (transient activities)"
   ]
  },
  {
   "cell_type": "code",
   "execution_count": 25,
   "metadata": {},
   "outputs": [],
   "source": [
    "#replacing the ID's with the correct names\n",
    "Activity_names = ['lying','sitting', 'standing', 'walking', 'running', 'cycling', 'Nordic walking', 'watching TV', 'Computer work', 'car driving', 'ascending stairs',\n",
    "'descending stairs', 'vacuum cleaning', 'ironing', 'folding laundry', 'house cleaning', 'playing soccer', 'jumping']\n"
   ]
  },
  {
   "cell_type": "code",
   "execution_count": 26,
   "metadata": {},
   "outputs": [],
   "source": [
    "subject1['activity_ID'] = subject1['activity_ID'].replace([1,2,3,4,5,6,7,9,10,11,12,13,16,17,18,19,20,24],Activity_names)\n",
    "subject2['activity_ID'] = subject2['activity_ID'].replace([1,2,3,4,5,6,7,9,10,11,12,13,16,17,18,19,20,24],Activity_names)\n",
    "subject3['activity_ID'] = subject3['activity_ID'].replace([1,2,3,4,5,6,7,9,10,11,12,13,16,17,18,19,20,24],Activity_names)\n",
    "subject4['activity_ID'] = subject4['activity_ID'].replace([1,2,3,4,5,6,7,9,10,11,12,13,16,17,18,19,20,24],Activity_names)\n",
    "subject5['activity_ID'] = subject5['activity_ID'].replace([1,2,3,4,5,6,7,9,10,11,12,13,16,17,18,19,20,24],Activity_names)\n",
    "subject6['activity_ID'] = subject6['activity_ID'].replace([1,2,3,4,5,6,7,9,10,11,12,13,16,17,18,19,20,24],Activity_names)\n",
    "subject7['activity_ID'] = subject7['activity_ID'].replace([1,2,3,4,5,6,7,9,10,11,12,13,16,17,18,19,20,24],Activity_names)\n",
    "subject8['activity_ID'] = subject8['activity_ID'].replace([1,2,3,4,5,6,7,9,10,11,12,13,16,17,18,19,20,24],Activity_names)\n",
    "subject9['activity_ID'] = subject9['activity_ID'].replace([1,2,3,4,5,6,7,9,10,11,12,13,16,17,18,19,20,24],Activity_names)"
   ]
  },
  {
   "cell_type": "markdown",
   "metadata": {},
   "source": [
    "### 4.1 More observation "
   ]
  },
  {
   "cell_type": "markdown",
   "metadata": {},
   "source": [
    "The data is based on many factors, starting from the activity ID's being performed, to the 3 different IMU data gathered while performing the given activity also keeping in mind the heart-rate. Therefore, the activities have the major impact on the kind of data we are exploring now.\n",
    "\n",
    "For example, it is quite clear that when the subject  performs activity such as 'lying' does not have very intensive data temperature and heart rate, but when the activity becomes more and more intensive the data tends to change in accordance(check the visualization graph in next paragraph).\n",
    "\n",
    "We will label those data based on their activities they were performed and based on their intensity of kind.\n",
    " \n",
    "it is hard to determine which activity is more intense and also it is not up to us to do that as the difference in opinions may reflect the results. Therefore, we will use the MET(Metabolic Equivalent Task) measure provided by [2] so that we can determine which of the activities is more or less intense.\n"
   ]
  },
  {
   "cell_type": "markdown",
   "metadata": {},
   "source": [
    "#### 4.1.1 What is Metabolic Equivilent Task\n",
    "\n",
    "According to [2] One metabolic equivalent is defined by the amount of oxygen consumed when the body is at rest, the measure for is it s equal to 3.5 ml O2 per kg body weight x min. It is very practical as it gives labeled evaluation of the consumed energy cost of any physical activities as a multiple of the resting metabolic rate.\n",
    "\n",
    "The energy cost of an activity can be determined by dividing the relative oxygen cost of the activity (ml O2/kg/min) x by 3.5.\n",
    "\n",
    "The intensity levels (in METS) for selected exercise protocols are compared stage by stage. The MET concept provides a convenient method to describe the functional capacity or exercise tolerance of an individual as determined from progressive exercise testing and to define a repertoire of physical activities in which a person may participate safely, without exceeding a prescribed intensity level.\n"
   ]
  },
  {
   "cell_type": "markdown",
   "metadata": {},
   "source": [
    "The activeties based on their MET metrics are as shown below."
   ]
  },
  {
   "cell_type": "markdown",
   "metadata": {},
   "source": [
    "1. lie 1.0 MET 3min.\n",
    "(07011: lying quietly, doing nothing...)\n",
    "2. sit 1.8 METs 3min.\n",
    "(09040: sitting – writing, desk work, typing)\n",
    "3. stand 1.8 METs 3min.\n",
    "(09050: standing – talking or talking on the phone)\n",
    "4. iron 2.3 METs 3min.\n",
    "(05070: ironing)\n",
    "5. break 1min.\n",
    "6. vacuum 3.5 METs 3min.\n",
    "(05043: vacuuming)\n",
    "7. break 1min.\n",
    "8. ascend stairs 8.0 METs 1min.\n",
    "(17130: walking upstairs)\n",
    "9. break 2min.\n",
    "10. descend stairs 3.0 METs 1min.\n",
    "(17070: walking downstairs)\n",
    "11. break 1min.\n",
    "12. ascend stairs 8.0 METs 1min.\n",
    "13. descend stairs 3.0 METs 1min.\n",
    "14. break 2min.\n",
    "15. normal walk 3.3-3.8 METs 3min.\n",
    "(17190: walking, 3.0mph, level, moderate pace, firm surface)\n",
    "(17200: walking, 3.5mph, level, brisk, firm surface, walking for exercise)\n",
    "16. break 1min.\n",
    "17. Nordic walk ?5.0-6.0 METs 3min.\n",
    "18. break 1min.\n",
    "19. cycle 4.0 METs 3min.\n",
    "(01010: bicycling, <10mph, leisure, to work or for pleasure)\n",
    "20. break 1min.\n",
    "21. run 7.0-8.0 METs 3min.\n",
    "(12020: jogging, general)\n",
    "(12030: running, 5mph)\n",
    "22. break 2min.\n",
    "23. rope jump 8.0-10.0 METs 2min.\n",
    "(15551: rope jumping, moderate, general)\n",
    "(15552: rope jumping, slow)"
   ]
  },
  {
   "cell_type": "markdown",
   "metadata": {},
   "source": [
    "Following the description above we will create a function to label those metrics in new column of intensivities respectively by defining them as 'low', 'moderate' and 'high' for each of our subjects.\n",
    "\n",
    "* The activaties that have from 0 to 3 metric will be labeled as low.\n",
    "* The activaties that have 3 to 5.5 will be labeled a s moderate.\n",
    "* The activaties that have 5.5 above will be labeled as high."
   ]
  },
  {
   "cell_type": "code",
   "execution_count": 27,
   "metadata": {},
   "outputs": [],
   "source": [
    "# MET from 1 to 3\n",
    "Low_intensity_list = ['walking', 'sitting', 'standing', 'lying','ironing','descending stairs', 'folding laundry','watching TV']\n",
    "# MET from 3.1 to 5\n",
    "Moderate_intensity_list = ['Nordic walking','cycling','vacuum cleaning'] \n",
    "# MET from 5.1 +\n",
    "High_intensity_list = ['playing soccer','jumping','house cleaning','ascending stairs','running']\n"
   ]
  },
  {
   "cell_type": "code",
   "execution_count": 28,
   "metadata": {},
   "outputs": [],
   "source": [
    "#function to apply intensity for each label \n",
    "def intensityCheck(x):\n",
    "    \n",
    "    if  x in Low_intensity_list:\n",
    "        return 'low'\n",
    "    elif x in Moderate_intensity_list:\n",
    "        return 'Moderate'\n",
    "    elif x in High_intensity_list:\n",
    "        return 'High'"
   ]
  },
  {
   "cell_type": "code",
   "execution_count": 29,
   "metadata": {},
   "outputs": [],
   "source": [
    "subject1['Intensity'] = subject1['activity_ID'].apply(intensityCheck)\n",
    "subject2['Intensity'] = subject2['activity_ID'].apply(intensityCheck)\n",
    "subject3['Intensity'] = subject3['activity_ID'].apply(intensityCheck)\n",
    "subject4['Intensity'] = subject4['activity_ID'].apply(intensityCheck)\n",
    "subject5['Intensity'] = subject5['activity_ID'].apply(intensityCheck)\n",
    "subject6['Intensity'] = subject6['activity_ID'].apply(intensityCheck)\n",
    "subject7['Intensity'] = subject7['activity_ID'].apply(intensityCheck)\n",
    "subject8['Intensity'] = subject8['activity_ID'].apply(intensityCheck)\n",
    "subject9['Intensity'] = subject9['activity_ID'].apply(intensityCheck)"
   ]
  },
  {
   "cell_type": "markdown",
   "metadata": {},
   "source": [
    "### 4.2 Data Visualisation"
   ]
  },
  {
   "cell_type": "code",
   "execution_count": 30,
   "metadata": {},
   "outputs": [
    {
     "data": {
      "text/plain": [
       "<matplotlib.axes._subplots.AxesSubplot at 0x26ff9f37da0>"
      ]
     },
     "execution_count": 30,
     "metadata": {},
     "output_type": "execute_result"
    },
    {
     "data": {
      "image/png": "[encoded data removed]",
      "text/plain": [
       "<Figure size 432x288 with 1 Axes>"
      ]
     },
     "metadata": {},
     "output_type": "display_data"
    }
   ],
   "source": [
    "Low = subject2.loc[subject2['Intensity'] == 'low']\n",
    "Low['heart_rate'].plot(kind='hist')"
   ]
  },
  {
   "cell_type": "code",
   "execution_count": 31,
   "metadata": {},
   "outputs": [
    {
     "data": {
      "text/plain": [
       "<matplotlib.axes._subplots.AxesSubplot at 0x26f8818cc50>"
      ]
     },
     "execution_count": 31,
     "metadata": {},
     "output_type": "execute_result"
    },
    {
     "data": {
      "image/png": "[encoded data removed]",
      "text/plain": [
       "<Figure size 432x288 with 1 Axes>"
      ]
     },
     "metadata": {},
     "output_type": "display_data"
    }
   ],
   "source": [
    "#Low1 = subject1.loc[subjects['Intensity'] == 'low']\n",
    "Moderate = subject1.loc[subject1['Intensity'] == 'Moderate']\n",
    "Moderate['heart_rate'].plot(kind='hist')\n"
   ]
  },
  {
   "cell_type": "code",
   "execution_count": 32,
   "metadata": {},
   "outputs": [
    {
     "data": {
      "text/plain": [
       "<matplotlib.axes._subplots.AxesSubplot at 0x26f8a5c12e8>"
      ]
     },
     "execution_count": 32,
     "metadata": {},
     "output_type": "execute_result"
    },
    {
     "data": {
      "image/png": "[encoded data removed]",
      "text/plain": [
       "<Figure size 432x288 with 1 Axes>"
      ]
     },
     "metadata": {},
     "output_type": "display_data"
    }
   ],
   "source": [
    "High = subject1.loc[subject1['Intensity'] == 'High']\n",
    "High['heart_rate'].plot(kind='hist')"
   ]
  },
  {
   "cell_type": "code",
   "execution_count": 33,
   "metadata": {},
   "outputs": [],
   "source": [
    "#d1 = df.groupby('Key')['admit'].apply(set).to_dict()\n",
    "df = subject1.groupby(\"activity_ID\")[\"heart_rate\"].mean()"
   ]
  },
  {
   "cell_type": "code",
   "execution_count": 34,
   "metadata": {},
   "outputs": [],
   "source": [
    "df2 = subject1.groupby([\"activity_ID\",\"heart_rate\"])"
   ]
  },
  {
   "cell_type": "markdown",
   "metadata": {},
   "source": [
    "See the increase of heart rate given the different activities"
   ]
  },
  {
   "cell_type": "code",
   "execution_count": 35,
   "metadata": {},
   "outputs": [
    {
     "data": {
      "image/png": "[encoded data removed]",
      "text/plain": [
       "<Figure size 720x360 with 1 Axes>"
      ]
     },
     "metadata": {},
     "output_type": "display_data"
    }
   ],
   "source": [
    "# Hist only heart_rate\n",
    "plt.figure(figsize = (10,5))\n",
    "sns.distplot( a=df, hist=True, kde=True, rug=True )\n",
    "\n",
    "sns.distplot( a=df, kde=True,\n",
    "kde_kws={\"color\": \"g\", \"alpha\":0.3, \"linewidth\": 5, \"shade\":True }\n",
    ")\n",
    "\n",
    "plt.show()\n",
    "\n"
   ]
  },
  {
   "cell_type": "markdown",
   "metadata": {},
   "source": [
    "## 5 Hypothesis testing"
   ]
  },
  {
   "cell_type": "markdown",
   "metadata": {},
   "source": [
    "Before we follow with hypothesis testing we will first do normality check for each of our labeled dataframes to makes sure that the data is normally distributed or not. but before doing that we will conactinate all of our subjects together, to have all the intensivities and their activaties in one dataframe"
   ]
  },
  {
   "cell_type": "code",
   "execution_count": 36,
   "metadata": {},
   "outputs": [],
   "source": [
    "subjects = pd.concat([subject1,subject2,subject3,subject4,subject5,subject6,subject7,subject8,subject9], ignore_index=True)"
   ]
  },
  {
   "cell_type": "code",
   "execution_count": 37,
   "metadata": {},
   "outputs": [],
   "source": [
    "Low1 = subjects.loc[subjects['Intensity'] == 'low']\n",
    "Moderate1 = subjects.loc[subjects['Intensity'] == 'Moderate']\n",
    "High1 = subjects.loc[subjects['Intensity'] == 'High']\n"
   ]
  },
  {
   "cell_type": "code",
   "execution_count": 38,
   "metadata": {},
   "outputs": [
    {
     "data": {
      "text/plain": [
       "NormaltestResult(statistic=158425.94604151056, pvalue=0.0)"
      ]
     },
     "execution_count": 38,
     "metadata": {},
     "output_type": "execute_result"
    }
   ],
   "source": [
    "stats.normaltest(Low1['heart_rate'])"
   ]
  },
  {
   "cell_type": "code",
   "execution_count": 39,
   "metadata": {},
   "outputs": [
    {
     "data": {
      "text/plain": [
       "NormaltestResult(statistic=28375.516235863804, pvalue=0.0)"
      ]
     },
     "execution_count": 39,
     "metadata": {},
     "output_type": "execute_result"
    }
   ],
   "source": [
    "stats.normaltest(Moderate1['heart_rate'])"
   ]
  },
  {
   "cell_type": "code",
   "execution_count": 40,
   "metadata": {},
   "outputs": [
    {
     "data": {
      "text/plain": [
       "NormaltestResult(statistic=13699.249418846282, pvalue=0.0)"
      ]
     },
     "execution_count": 40,
     "metadata": {},
     "output_type": "execute_result"
    }
   ],
   "source": [
    "stats.normaltest(High1['heart_rate'])"
   ]
  },
  {
   "cell_type": "markdown",
   "metadata": {},
   "source": [
    "Both tests return small associated p-values (less than - 0.05 ). This indicates that both distributions deviate from normality. Therefore, we should use Mann-Whitney U test."
   ]
  },
  {
   "cell_type": "code",
   "execution_count": 41,
   "metadata": {},
   "outputs": [],
   "source": [
    "LowMean = Low1[\"heart_rate\"].mean()\n",
    "ModerateMean = Moderate1[\"heart_rate\"].mean()\n",
    "HighMean = High1[\"heart_rate\"].mean()\n"
   ]
  },
  {
   "cell_type": "markdown",
   "metadata": {},
   "source": [
    "Now lets see if there is any corralation between the 3 labeled dataframes when it come sto the mean of the 'heart_rate'."
   ]
  },
  {
   "cell_type": "code",
   "execution_count": 42,
   "metadata": {},
   "outputs": [
    {
     "data": {
      "image/png": "[encoded data removed]",
      "text/plain": [
       "<Figure size 1080x720 with 1 Axes>"
      ]
     },
     "metadata": {},
     "output_type": "display_data"
    }
   ],
   "source": [
    "plt.figure(figsize = (15,10))\n",
    "ax = plt.subplot(111)\n",
    "ax.bar(LowMean, height = LowMean, width=15, color='b', align='center')\n",
    "ax.bar(ModerateMean, height = ModerateMean, width=15, color='g', align='center')\n",
    "ax.bar(HighMean, height = HighMean, width=15, color='r', align='center')\n",
    "\n",
    "plt.show()"
   ]
  },
  {
   "cell_type": "markdown",
   "metadata": {},
   "source": [
    "Judging from the plot above, visually it seems that the 'heart_rate' is dependent upon the intensity of those activities. but to prove this, we will run hypothesis testing to define that."
   ]
  },
  {
   "cell_type": "markdown",
   "metadata": {},
   "source": [
    "Perform 3 hypothesis testing to observe if the differences between the mean 'heart_rate' of activities labeled as 'low', 'moderate' and 'high' is significantly big to prove that the all 3 of these labels directly affect the fluctuation of the heart rate.\n",
    "\n",
    "\n",
    "The 3-hypothesis testing are as followed:\n",
    "\n",
    "* Low intensity heart rate vs Moderate intensity heart rate\n",
    "* Moderate intensity heart rate vs High intensity heart rate\n",
    "* Low intensity heart rate vs High intensity heart rate\n",
    "\n",
    "\n",
    "The Hypothesis for each test:\n",
    "\n",
    "* Null hypothesis: there is no significant difference between the labeled data of two intensities \n",
    "*\tHa: the alternative hypothesis is that there is significant difference, μ1 - μ2 > 0\n",
    "*\tSignificance value α: 0.05\n"
   ]
  },
  {
   "cell_type": "markdown",
   "metadata": {},
   "source": [
    "##### Low intesivity heart rate vs Moderate intensivity heart rate"
   ]
  },
  {
   "cell_type": "code",
   "execution_count": 43,
   "metadata": {},
   "outputs": [
    {
     "name": "stdout",
     "output_type": "stream",
     "text": [
      "MannwhitneyuResult(statistic=100227004620.0, pvalue=0.0)\n"
     ]
    }
   ],
   "source": [
    "Low_vs_Moderate = stats.mannwhitneyu(Low1['heart_rate'],Moderate1['heart_rate'],alternative='two-sided')\n",
    "print(Low_vs_Moderate)"
   ]
  },
  {
   "cell_type": "markdown",
   "metadata": {},
   "source": [
    "##### Moderate intensivity heart rate vs High intensity heart rate"
   ]
  },
  {
   "cell_type": "code",
   "execution_count": 44,
   "metadata": {},
   "outputs": [
    {
     "name": "stdout",
     "output_type": "stream",
     "text": [
      "MannwhitneyuResult(statistic=27003856675.0, pvalue=0.0)\n"
     ]
    }
   ],
   "source": [
    "Moderate_vs_High = stats.mannwhitneyu(Moderate1['heart_rate'],High1['heart_rate'],alternative='two-sided')\n",
    "print(Moderate_vs_High)"
   ]
  },
  {
   "cell_type": "markdown",
   "metadata": {},
   "source": [
    "##### Low intesivity heart rate vs High intensity heart rate"
   ]
  },
  {
   "cell_type": "code",
   "execution_count": 45,
   "metadata": {},
   "outputs": [
    {
     "name": "stdout",
     "output_type": "stream",
     "text": [
      "MannwhitneyuResult(statistic=20839206850.5, pvalue=0.0)\n"
     ]
    }
   ],
   "source": [
    "Low_vs_High = stats.mannwhitneyu(Low1['heart_rate'],High1['heart_rate'],alternative='two-sided')\n",
    "print(Low_vs_High)"
   ]
  },
  {
   "cell_type": "markdown",
   "metadata": {},
   "source": [
    "### 5.1 Final observations"
   ]
  },
  {
   "cell_type": "markdown",
   "metadata": {},
   "source": [
    "For each of the Hypothesis the 'p' value is really small '0.0' it is slower than our significance value. Therefore, we chose the alternative hypothesis and presume it as our final prove, which means that the labels of the intensity define the correct metric for defining how intensive the activities are.\n",
    "\n",
    "In the following paragraphs will try to get insight from our data by fitting it into our models.\n"
   ]
  },
  {
   "cell_type": "markdown",
   "metadata": {},
   "source": [
    "## 6 Modeling"
   ]
  },
  {
   "cell_type": "markdown",
   "metadata": {},
   "source": [
    "We know so far that the data is very sparse and there is no direct correlation between them except the type of activities performed and effect of those activities on the heart rate. and to prove this we will train our model and fit in the data to see on how all of these attributes affect based on the single variable 'heart rate'."
   ]
  },
  {
   "cell_type": "markdown",
   "metadata": {},
   "source": [
    "### 6.1 Regression model"
   ]
  },
  {
   "cell_type": "markdown",
   "metadata": {},
   "source": [
    "\n",
    "As we fit regression models, you might need to make a choice between linear and nonlinear regression models.Despite their names, both forms of regression can fit curvature in our data. So, how do you choose? \n",
    "\n",
    "First off, let’s cover a few basics. If the two types of regression models are not named based on their ability to fit curves, what is the difference between them?\n",
    "\n",
    "linear models must follow one very particular form:\n",
    "\n",
    "<center>Dependent variable = constant + parameter * IV + … + parameter * IV</center>\n",
    "\n",
    "The form is linear in the parameters because all terms are either the constant or a parameter multiplied by an independent variable (IV). A linear regression equation simply sums the terms. While the model must be linear in the parameters, you can raise an independent variable by an exponent to fit a curve. For instance, we can use the 'heart rate' as it incresase or decreases along with the other values.\n",
    "\n",
    "Nonlinear regression models are anything that doesn’t follow this one form.\n"
   ]
  },
  {
   "cell_type": "markdown",
   "metadata": {},
   "source": [
    "### 6.2 Creating and fiting our model\n"
   ]
  },
  {
   "cell_type": "markdown",
   "metadata": {},
   "source": [
    "As we know, our data is gathered from 3 sensors. Therefore, I will divide our data back to 3 variables to train on 3 different models using one independent  variable 'heart rate'."
   ]
  },
  {
   "cell_type": "markdown",
   "metadata": {},
   "source": [
    "Now columns such as 'timestamp', 'activity_ID' and 'Intensity' do not mater in this case we will drop them so that it does not affect our model "
   ]
  },
  {
   "cell_type": "code",
   "execution_count": 46,
   "metadata": {},
   "outputs": [],
   "source": [
    "subjects = subjects.drop(['timestamp', 'activity_ID','Intensity'], axis=1)"
   ]
  },
  {
   "cell_type": "code",
   "execution_count": 47,
   "metadata": {},
   "outputs": [],
   "source": [
    "df1 = subjects.loc[:, 'IMU_hand_temp':'hand_magnetometer_μT_12':1]\n",
    "df2 = subjects.loc[:, 'IMU_chest_temp':'chest_magnetometer_μT_12':1]\n",
    "df3 = subjects.loc[:, 'IMU_ankle_temp':'ankle_magnetometer_μT_12':1]"
   ]
  },
  {
   "cell_type": "markdown",
   "metadata": {},
   "source": [
    "##### Model 1  Hand "
   ]
  },
  {
   "cell_type": "code",
   "execution_count": 48,
   "metadata": {},
   "outputs": [
    {
     "name": "stdout",
     "output_type": "stream",
     "text": [
      "Slope: [-5.37064533 -0.50880666 -0.09348247 -1.33726289  0.18639004  1.42313131\n",
      " -0.2752906   0.26580939 -0.17365683 -0.13841734]\n",
      "Intercept: 274.5378817549546\n",
      "Root mean squared error:  498.2107065101733\n",
      "R2 score:  0.31625521784258237\n"
     ]
    }
   ],
   "source": [
    "# generate random data-set\n",
    "np.random.seed(0)\n",
    "x = df1\n",
    "y = subjects[\"heart_rate\"]\n",
    "\n",
    "#x= x.values.reshape(-1, 1)\n",
    "#y= y.values.reshape(-1, 1)\n",
    "\n",
    "#x.shape[0] != y.shape[0]\n",
    "# sckit-learn implementation\n",
    "\n",
    "# Model initialization\n",
    "regression_model = LinearRegression()\n",
    "# Fit the data(train the model)\n",
    "regression_model.fit(x, y)\n",
    "# Predict\n",
    "y_predicted = regression_model.predict(x)\n",
    "\n",
    "# model evaluation\n",
    "rmse = mean_squared_error(y, y_predicted)\n",
    "r2 = r2_score(y, y_predicted)\n",
    "\n",
    "# printing values\n",
    "print('Slope:' ,regression_model.coef_)\n",
    "print('Intercept:', regression_model.intercept_)\n",
    "print('Root mean squared error: ', rmse)\n",
    "print('R2 score: ', r2)\n",
    "\n"
   ]
  },
  {
   "cell_type": "markdown",
   "metadata": {},
   "source": [
    "##### Model 2 Chest"
   ]
  },
  {
   "cell_type": "code",
   "execution_count": 49,
   "metadata": {},
   "outputs": [
    {
     "name": "stdout",
     "output_type": "stream",
     "text": [
      "Slope: [-3.57014672  0.98538946 -0.10864394 -0.49844212 -0.35750626 -0.33218225\n",
      " -1.25201191  0.21130433 -0.61511821  0.45092494]\n",
      "Intercept: 214.59656577319151\n",
      "Root mean squared error:  466.5201022094356\n",
      "R2 score:  0.3597474291718512\n"
     ]
    }
   ],
   "source": [
    "# generate random data-set\n",
    "np.random.seed(0)\n",
    "x = df2\n",
    "y = subjects[\"heart_rate\"]\n",
    "\n",
    "# Model initialization\n",
    "regression_model = LinearRegression()\n",
    "# Fit the data(train the model)\n",
    "regression_model.fit(x, y)\n",
    "# Predict\n",
    "y_predicted = regression_model.predict(x)\n",
    "\n",
    "# model evaluation\n",
    "rmse = mean_squared_error(y, y_predicted)\n",
    "r2 = r2_score(y, y_predicted)\n",
    "\n",
    "# printing values\n",
    "print('Slope:' ,regression_model.coef_)\n",
    "print('Intercept:', regression_model.intercept_)\n",
    "print('Root mean squared error: ', rmse)\n",
    "print('R2 score: ', r2)\n",
    "\n"
   ]
  },
  {
   "cell_type": "markdown",
   "metadata": {},
   "source": [
    "##### Model 3 Ankle"
   ]
  },
  {
   "cell_type": "code",
   "execution_count": 50,
   "metadata": {},
   "outputs": [
    {
     "name": "stdout",
     "output_type": "stream",
     "text": [
      "Slope: [-2.74849415  0.85952429  0.50450718 -0.09605181 -0.39169974 -0.59850611\n",
      " -0.08418255 -0.38608463 -0.25765574 -0.1237781 ]\n",
      "Intercept: 182.16813754932798\n",
      "Root mean squared error:  556.6037271578155\n",
      "R2 score:  0.2361165884223002\n"
     ]
    }
   ],
   "source": [
    "# generate random data-set\n",
    "np.random.seed(0)\n",
    "x = df3\n",
    "y = subjects[\"heart_rate\"]\n",
    "\n",
    "# Model initialization\n",
    "regression_model = LinearRegression()\n",
    "# Fit the data(train the model)\n",
    "regression_model.fit(x, y)\n",
    "# Predict\n",
    "y_predicted = regression_model.predict(x)\n",
    "\n",
    "# model evaluation\n",
    "rmse = mean_squared_error(y, y_predicted)\n",
    "r2 = r2_score(y, y_predicted)\n",
    "\n",
    "# printing values\n",
    "print('Slope:' ,regression_model.coef_)\n",
    "print('Intercept:', regression_model.intercept_)\n",
    "print('Root mean squared error: ', rmse)\n",
    "print('R2 score: ', r2)\n"
   ]
  },
  {
   "cell_type": "markdown",
   "metadata": {},
   "source": [
    "#### All the IMU data together "
   ]
  },
  {
   "cell_type": "code",
   "execution_count": 51,
   "metadata": {},
   "outputs": [],
   "source": [
    "#all the sensors combined\n",
    "dfa = subjects.loc[:, subjects.columns != 'heart_rate']"
   ]
  },
  {
   "cell_type": "code",
   "execution_count": 52,
   "metadata": {},
   "outputs": [
    {
     "name": "stdout",
     "output_type": "stream",
     "text": [
      "Slope: [-6.119711   -0.03367702 -0.02535556 -0.83593565  0.1316111   1.32555891\n",
      " -0.24030528  0.05567904 -0.00629127  0.01004668  1.98444507  0.47914175\n",
      " -0.17456994 -0.43659559 -0.23352532 -1.07298219 -0.75691079  0.16647117\n",
      " -0.4245068   0.25086651  0.42657915  0.24593283  0.14680438 -0.37058594\n",
      " -0.40724076 -0.53204515  0.04177617 -0.1227824  -0.01617676 -0.03256917]\n",
      "Intercept: 202.7591227021196\n",
      "Root mean squared error:  386.6079381550761\n",
      "R2 score:  0.46941894864964495\n"
     ]
    }
   ],
   "source": [
    "# generate random data-set\n",
    "np.random.seed(0)\n",
    "x = dfa\n",
    "y = subjects[\"heart_rate\"]\n",
    "\n",
    "\n",
    "# Model initialization\n",
    "regression_model = LinearRegression()\n",
    "# Fit the data(train the model)\n",
    "regression_model.fit(x, y)\n",
    "# Predict\n",
    "y_predicted = regression_model.predict(x)\n",
    "\n",
    "# model evaluation\n",
    "rmse = mean_squared_error(y, y_predicted)\n",
    "r2 = r2_score(y, y_predicted)\n",
    "\n",
    "# printing values\n",
    "print('Slope:' ,regression_model.coef_)\n",
    "print('Intercept:', regression_model.intercept_)\n",
    "print('Root mean squared error: ', rmse)\n",
    "print('R2 score: ', r2)"
   ]
  },
  {
   "cell_type": "markdown",
   "metadata": {},
   "source": [
    "#### 6.3 Discussion"
   ]
  },
  {
   "cell_type": "markdown",
   "metadata": {},
   "source": [
    "The model did not perform as expected the error value is very low as it has returned accuracy of 23% for the 'Ankle' sensory data, 31.6% for the 'Hand' and 36% for the 'Chest'. However, when fitting the 3 of those data in one. the accuracy is 47% this still not a valid accuracy to consider. However, it is clear that which one of those models performed better which is the data from 'Chest' IMU sensors.\n",
    "\n",
    "One possible improvement would be to change the model as it seems that the data is not fitted for linear evaluation with the example of Linear regression.\n"
   ]
  },
  {
   "cell_type": "markdown",
   "metadata": {},
   "source": [
    "### 7 Summary"
   ]
  },
  {
   "cell_type": "markdown",
   "metadata": {},
   "source": [
    "Since all the 3 sensors together have given the highest accuracy it is still not a reason to use all 3 for activity trucking. Therefore, use only hand or chest.\n",
    "\n",
    "Given all the insight gathered for this project, it would be reasonable to advise to use only one sensor given that the IMU sensor of 'Chest' has shown better results and performs relatively well.\n",
    "\n",
    "Therefore, I would suggest a Sport wearable bra for men and woman, this kind of sensor can define their activities based on their acceleration and the heart rate. Another suggestion would be to truck the persons activities to understand the average MET metric to define the right activities performed by the user as it may differ per person so that it would lead to more definite results when performing activities.\n"
   ]
  },
  {
   "cell_type": "markdown",
   "metadata": {},
   "source": [
    "### References"
   ]
  },
  {
   "cell_type": "markdown",
   "metadata": {},
   "source": [
    "[1]UCI Machine Learning Repository: PAMAP2 Physical Activity Monitoring Data Set\n",
    "http://archive.ics.uci.edu/ml/datasets/pamap2+physical+activity+monitoring\n",
    "\n",
    "[2]Metabolic equivalents (METS) in exercise testing, exercise prescription, and evaluation of functional capacity. - PubMed - NCBI\n",
    "https://www.ncbi.nlm.nih.gov/pubmed/2204507"
   ]
  }
 ],
 "metadata": {
  "kernelspec": {
   "display_name": "Python 3",
   "language": "python",
   "name": "python3"
  },
  "language_info": {
   "codemirror_mode": {
    "name": "ipython",
    "version": 3
   },
   "file_extension": ".py",
   "mimetype": "text/x-python",
   "name": "python",
   "nbconvert_exporter": "python",
   "pygments_lexer": "ipython3",
   "version": "3.6.8"
  }
 },
 "nbformat": 4,
 "nbformat_minor": 2
}
